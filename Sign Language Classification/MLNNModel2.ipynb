{
  "cells": [
    {
      "cell_type": "code",
      "execution_count": null,
      "id": "2fb12d7e",
      "metadata": {
        "id": "2fb12d7e"
      },
      "outputs": [],
      "source": []
    },
    {
      "cell_type": "code",
      "execution_count": 11,
      "id": "57337ffb",
      "metadata": {
        "id": "57337ffb"
      },
      "outputs": [],
      "source": [
        "import numpy as np\n",
        "import matplotlib.pyplot as plt \n",
        "import os \n",
        "import cv2\n",
        "import random\n",
        "from keras.utils import to_categorical\n",
        "from keras.models import Sequential\n",
        "from keras.layers import Conv2D, MaxPooling2D, Dense, Flatten\n",
        "from keras.utils import to_categorical\n",
        "from sklearn.model_selection import KFold\n",
        "from sklearn.model_selection import train_test_split\n",
        "from sklearn.metrics import classification_report\n",
        "from sklearn.metrics import confusion_matrix"
      ]
    },
    {
      "cell_type": "code",
      "source": [
        "from google.colab import drive\n",
        "drive.mount('/content/drive')"
      ],
      "metadata": {
        "colab": {
          "base_uri": "https://localhost:8080/"
        },
        "id": "bMAg2PtJUhIY",
        "outputId": "144d0494-8d8d-437c-c1e4-36efe67d48f6"
      },
      "id": "bMAg2PtJUhIY",
      "execution_count": 2,
      "outputs": [
        {
          "output_type": "stream",
          "name": "stdout",
          "text": [
            "Mounted at /content/drive\n"
          ]
        }
      ]
    },
    {
      "cell_type": "code",
      "execution_count": 3,
      "id": "ab5f0755",
      "metadata": {
        "id": "ab5f0755"
      },
      "outputs": [],
      "source": [
        "data_url = '/content/drive/MyDrive/Dataset'\n",
        "categories = [\"0\",\"1\",\"2\",\"3\",\"4\",\"5\",\"6\",\"7\",\"8\",\"9\"]\n",
        "dataset = []\n",
        "out = []\n",
        "# store and normalize data \n",
        "for cat in categories :\n",
        "    path = os.path.join(data_url,cat)\n",
        "    for imgPath in os.listdir(path):\n",
        "        image = cv2.imread(os.path.join(path,imgPath),cv2.IMREAD_GRAYSCALE)\n",
        "        image = cv2.resize(image, (64,64))\n",
        "        image = image.astype('float32')\n",
        "        image /= 255\n",
        "        dataset.append(image)\n",
        "        out.append(categories.index(cat))\n",
        "        #plt.imshow(image,cmap=\"gray\")\n",
        "        #plt.show()\n",
        "        "
      ]
    },
    {
      "cell_type": "code",
      "execution_count": 6,
      "id": "f2a2f2bc",
      "metadata": {
        "id": "f2a2f2bc"
      },
      "outputs": [],
      "source": [
        "testSize= len(dataset) * 0.2\n",
        "x, x_valid, y, y_valid = train_test_split(dataset, out, test_size=0.15, random_state=42)\n",
        "\n",
        "\n",
        "x = np.asarray(x)\n",
        "y = np.asarray(y)\n",
        "x_valid = np.asarray(x_valid)\n",
        "y_valid = np.asarray(y_valid)\n",
        "\n",
        "\n",
        "x = x.reshape(x.shape[0],64,64,1)\n",
        "x_valid = x_valid.reshape(-1,64,64,1)\n",
        "\n",
        "\n",
        "y = to_categorical(y, 10)\n",
        "#y_test = to_categorical(y_test, 10)\n",
        "y_valid = to_categorical(y_valid,10)\n",
        "\n",
        "# print(y_train.shape)\n",
        "# plt.imshow(x[9],cmap=\"gray\")\n",
        "# plt.show()\n"
      ]
    },
    {
      "cell_type": "code",
      "execution_count": 7,
      "id": "e83d5ddf",
      "metadata": {
        "id": "e83d5ddf"
      },
      "outputs": [],
      "source": [
        "model = Sequential([\n",
        "    Flatten(),\n",
        "    Dense(128, activation='relu'), # hidden layer 1 with 128 neurons and input layer \n",
        "    Dense(64, activation='relu'),# hidden layer 2 with 64 neurons\n",
        "    Dense(32, activation='relu'),  # hidden layer 3 with 32 neurons\n",
        "    Dense(10, activation='sigmoid'),  # out layer \n",
        "])\n",
        "model.compile(loss='categorical_crossentropy', optimizer='adam', metrics=['accuracy'])\n",
        "\n",
        "#hist = model.fit(x_train, y_train,batch_size=32, epochs=10,validation_data=(x_valid, y_valid))"
      ]
    },
    {
      "cell_type": "code",
      "execution_count": 8,
      "id": "2f2bac90",
      "metadata": {
        "id": "2f2bac90"
      },
      "outputs": [],
      "source": [
        "# k-fold cross-validation during trianing\n",
        "scores, histories = list(), list()\n",
        "sum_ = 0.0\n",
        "# prepare cross validation\n",
        "K=4\n",
        "kfold = KFold(K)\n",
        "\n",
        "X_train, X_test,y_train, y_test = 0,0,0,0\n",
        "\n",
        "# enumerate splits\n",
        "for train_index, test_index in kfold.split(x):\n",
        "    # select rows for train and test\n",
        "    x_train, x_test = x[train_index], x[test_index]\n",
        "    y_train, y_test = y[train_index], y[test_index]\n",
        "    # fit model\n",
        "    history = model.fit(x_train, y_train, epochs=10, batch_size=32, validation_data=(x_valid, y_valid), verbose=0)\n",
        "    # evaluate model\n",
        "    _, acc = model.evaluate(x[test_index], y[test_index], verbose=0)\n",
        "    # stores scores\n",
        "    scores.append(acc)\n",
        "    histories.append(history)\n",
        "    sum_ += acc\n",
        "scoreOfVal = sum_ / K\n",
        "\n",
        "#Testing Accuracy\n",
        "_, scoreOfTest = model.evaluate(x_test, y_test, batch_size=32, verbose=0)\n"
      ]
    },
    {
      "cell_type": "code",
      "execution_count": 12,
      "id": "2d849103",
      "metadata": {
        "colab": {
          "base_uri": "https://localhost:8080/"
        },
        "id": "2d849103",
        "outputId": "04627df3-c2f1-422f-ab6d-7c21c9edd829"
      },
      "outputs": [
        {
          "output_type": "stream",
          "name": "stdout",
          "text": [
            "accuracy for Validation =  0.6015981733798981\n",
            "accuracy for Testing =  0.6598173379898071\n",
            "14/14 [==============================] - 0s 4ms/step\n",
            "              precision    recall  f1-score   support\n",
            "\n",
            "           0       0.94      0.82      0.88        39\n",
            "           1       0.93      0.68      0.79        38\n",
            "           2       0.40      0.95      0.56        38\n",
            "           3       0.94      0.68      0.79        44\n",
            "           4       0.46      0.40      0.43        40\n",
            "           5       0.97      0.78      0.86        40\n",
            "           6       0.46      0.70      0.55        47\n",
            "           7       0.61      0.45      0.52        44\n",
            "           8       0.69      0.58      0.63        59\n",
            "           9       0.94      0.63      0.76        49\n",
            "\n",
            "    accuracy                           0.66       438\n",
            "   macro avg       0.73      0.67      0.68       438\n",
            "weighted avg       0.73      0.66      0.67       438\n",
            "\n",
            "[[32  0  0  0  2  0  3  1  1  0]\n",
            " [ 1 26  6  0  0  0  1  3  1  0]\n",
            " [ 0  1 36  0  0  0  0  0  1  0]\n",
            " [ 0  0 11 30  0  0  0  0  2  1]\n",
            " [ 0  0  3  0 16  0 21  0  0  0]\n",
            " [ 0  0  0  1  7 31  0  0  0  1]\n",
            " [ 0  0 13  0  1  0 33  0  0  0]\n",
            " [ 0  0 17  0  0  0  6 20  1  0]\n",
            " [ 0  1  3  0  6  0  6  9 34  0]\n",
            " [ 1  0  1  1  3  1  2  0  9 31]]\n"
          ]
        }
      ],
      "source": [
        "\n",
        "print('accuracy for Validation = ', scoreOfVal)\n",
        "print('accuracy for Testing = ', scoreOfTest)\n",
        "\n",
        "y_pred = model.predict(x_test)\n",
        "# print(y_pred)\n",
        "\n",
        "\n",
        "y_pred_ =np.argmax(y_pred, axis=1)\n",
        "y_test_ =np.argmax(y_test, axis=1)\n",
        "# print(y_test)\n",
        "\n",
        "\n",
        "print(classification_report(y_test_, y_pred_))\n",
        "print(confusion_matrix(y_test_, y_pred_))\n",
        "\n",
        "# # Precision= TP/(TP + FP) = Accuracy of positive predictions.\n",
        "\n",
        "# # Recall = TP/(TP+FN) = Fraction of positives that were correctly identified.\n",
        "\n",
        "# # F1 Score = 2*(Recall * Precision) / (Recall + Precision) = What percent of positive predictions were correct? \n",
        "\n"
      ]
    }
  ],
  "metadata": {
    "kernelspec": {
      "display_name": "Python 3 (ipykernel)",
      "language": "python",
      "name": "python3"
    },
    "language_info": {
      "codemirror_mode": {
        "name": "ipython",
        "version": 3
      },
      "file_extension": ".py",
      "mimetype": "text/x-python",
      "name": "python",
      "nbconvert_exporter": "python",
      "pygments_lexer": "ipython3",
      "version": "3.10.6"
    },
    "colab": {
      "provenance": []
    }
  },
  "nbformat": 4,
  "nbformat_minor": 5
}