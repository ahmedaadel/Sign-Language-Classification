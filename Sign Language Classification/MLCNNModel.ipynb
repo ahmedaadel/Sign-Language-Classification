{
  "cells": [
    {
      "cell_type": "code",
      "execution_count": 56,
      "metadata": {
        "id": "9hYQE--Z5c_y"
      },
      "outputs": [],
      "source": [
        "import tensorflow as tf\n",
        "import os\n",
        "import numpy as np\n",
        "from os import listdir\n",
        "from PIL import Image\n",
        "from sklearn.model_selection import train_test_split\n",
        "import imageio\n",
        "import cv2\n",
        "import matplotlib.pyplot as plt\n",
        "from keras.utils import to_categorical\n",
        "from keras.models import Sequential\n",
        "from keras.layers import Conv2D, MaxPooling2D, Dense, Flatten, Dropout\n",
        "from keras.optimizers import SGD\n",
        "from sklearn.model_selection import KFold\n",
        "import sklearn.metrics\n",
        "from sklearn.metrics import classification_report\n",
        "from sklearn.metrics import confusion_matrix"
      ]
    },
    {
      "cell_type": "code",
      "execution_count": 57,
      "metadata": {
        "colab": {
          "base_uri": "https://localhost:8080/"
        },
        "id": "Ss_2ceP_BV7K",
        "outputId": "5f46d0b0-d436-408c-c0eb-82ed6dff4456"
      },
      "outputs": [
        {
          "output_type": "stream",
          "name": "stdout",
          "text": [
            "Drive already mounted at /content/drive; to attempt to forcibly remount, call drive.mount(\"/content/drive\", force_remount=True).\n"
          ]
        }
      ],
      "source": [
        "from google.colab import drive\n",
        "drive.mount('/content/drive')"
      ]
    },
    {
      "cell_type": "code",
      "execution_count": 58,
      "metadata": {
        "id": "kqJkr6To9byG"
      },
      "outputs": [],
      "source": [
        "\n",
        "imgSize = 64 #resize all images 64*64 pixels\n",
        "numClasses = 10 #0->9\n",
        "testSize = 0.2 #20% testing, 80%training\n"
      ]
    },
    {
      "cell_type": "code",
      "execution_count": 59,
      "metadata": {
        "id": "tRv065tG-A0N"
      },
      "outputs": [],
      "source": [
        "#get dataset \n",
        "dataset_path='/content/drive/MyDrive/Dataset'\n",
        "l=listdir(dataset_path)\n",
        "X = []\n",
        "Y = []\n",
        "for i, label in enumerate(l):\n",
        "    # print(i,'  ',label)\n",
        "    datas_path = dataset_path + '/' + label\n",
        "    for data in listdir(datas_path):\n",
        "        # print('** ',data)\n",
        "        img = imageio.imread(datas_path + '/' + data, as_gray=False)\n",
        "        img = cv2.resize(img, (imgSize,imgSize))\n",
        "        X.append(img)\n",
        "        Y.append(label)"
      ]
    },
    {
      "cell_type": "code",
      "execution_count": 60,
      "metadata": {
        "colab": {
          "base_uri": "https://localhost:8080/",
          "height": 337
        },
        "id": "jIbLezdgAODu",
        "outputId": "58501982-808d-4617-b2c8-2cffdc717c35"
      },
      "outputs": [
        {
          "output_type": "stream",
          "name": "stderr",
          "text": [
            "WARNING:matplotlib.image:Clipping input data to the valid range for imshow with RGB data ([0..1] for floats or [0..255] for integers).\n"
          ]
        },
        {
          "output_type": "stream",
          "name": "stdout",
          "text": [
            "164.48943083424265\n",
            "4\n",
            "1649\n"
          ]
        },
        {
          "output_type": "display_data",
          "data": {
            "text/plain": [
              "<Figure size 432x288 with 1 Axes>"
            ],
            "image/png": "[encoded data removed]"
          },
          "metadata": {
            "needs_background": "light"
          }
        }
      ],
      "source": [
        "avg = np.average(X)\n",
        "print(avg)\n",
        "X = np.asarray(X)\n",
        "X  = X.astype('float32')\n",
        "X -= avg \n",
        "X /= 255\n",
        "\n",
        "#Splitting 20% test , 80% Train\n",
        "x_train, x_test, y_train, y_test = train_test_split(X, Y, test_size=0.2, random_state=42)\n",
        "\n",
        "\n",
        "x_train = np.asarray(x_train)\n",
        "x_test = np.asarray(x_test)\n",
        "y_train = np.asarray(y_train)\n",
        "y_test = np.asarray(y_test)\n",
        "\n",
        "#test image in train\n",
        "plt.imshow(x_train[10])\n",
        "\n",
        "#get its categorized value\n",
        "print(y_train[10])\n",
        "print(x_train.shape[0])\n",
        "\n",
        "# Reshaping the array to 4-dimensions so that it can work with the Keras API\n",
        "x_train = x_train.reshape((x_train.shape[0], imgSize, imgSize, 3))\n",
        "x_test = x_test.reshape((x_test.shape[0], imgSize, imgSize, 3))\n",
        "\n",
        " #0,1,2,..9   \n",
        "\n",
        "y_train = to_categorical(y_train, numClasses)\n",
        "y_test = to_categorical(y_test, numClasses)\n",
        "\n",
        "\n",
        "\n",
        "\n"
      ]
    },
    {
      "cell_type": "code",
      "execution_count": 61,
      "metadata": {
        "id": "Gx7wpX3g8Lrf"
      },
      "outputs": [],
      "source": [
        "#Build CNN Model 1st Arch.\n",
        "\n",
        "model = Sequential()\n",
        "\n",
        "model.add(Conv2D(32, (5, 5), input_shape=(imgSize, imgSize, 3), activation='relu'))\n",
        "\n",
        "model.add(MaxPooling2D())\n",
        "\n",
        "model.add(Dropout(0.2))\n",
        "\n",
        "model.add(Flatten())\n",
        "\n",
        "model.add(Dense(128, activation='relu'))\n",
        "\n",
        "model.add(Dense(numClasses, activation='softmax'))\n",
        "# Compile model\n",
        "model.compile(loss='categorical_crossentropy', optimizer='adam', metrics=['accuracy'])"
      ]
    },
    {
      "cell_type": "code",
      "execution_count": 62,
      "metadata": {
        "id": "maKMEBJk-ZuK"
      },
      "outputs": [],
      "source": [
        "# k-fold cross-validation during trianing\n",
        "scores, histories = list(), list()\n",
        "sum_ = 0.0\n",
        "# prepare cross validation\n",
        "K=4\n",
        "kfold = KFold(K, shuffle=True, random_state=1)\n",
        "\n",
        "# enumerate splits\n",
        "for train_ix, val_ix in kfold.split(x_train):\n",
        "    # select rows for train and test\n",
        "    trainX, trainY, valX, valY = x_train[train_ix], y_train[train_ix], x_train[val_ix], y_train[val_ix]\n",
        "    # fit model\n",
        "    history = model.fit(trainX, trainY, epochs=10, batch_size=32, validation_data=(valX, valY), verbose=0)\n",
        "    # evaluate model\n",
        "    _, acc = model.evaluate(valX, valY, verbose=0)\n",
        "    # stores scores\n",
        "    scores.append(acc)\n",
        "    histories.append(history)\n",
        "    sum_ += acc\n",
        "scoreOfVal = sum_ / K\n",
        "\n",
        "#TESTING ACCURACY \n",
        "_, scoreOfTest = model.evaluate(x_test, y_test, batch_size=32, verbose=0)"
      ]
    },
    {
      "cell_type": "code",
      "execution_count": 64,
      "metadata": {
        "id": "fR-xNrfa-1C-",
        "colab": {
          "base_uri": "https://localhost:8080/"
        },
        "outputId": "f4e6a75a-652a-4f84-83f5-0886b2a38dea"
      },
      "outputs": [
        {
          "output_type": "stream",
          "name": "stdout",
          "text": [
            "Validation Accuracy=  0.9503455609083176\n",
            "Testing Accuracy=  0.8789346218109131\n",
            "13/13 [==============================] - 0s 2ms/step\n",
            "              precision    recall  f1-score   support\n",
            "\n",
            "           0       0.94      0.89      0.92        38\n",
            "           1       0.96      0.94      0.95        48\n",
            "           2       0.87      0.87      0.87        46\n",
            "           3       0.94      0.91      0.93        35\n",
            "           4       0.78      0.88      0.82        40\n",
            "           5       0.98      0.94      0.96        50\n",
            "           6       0.71      0.78      0.75        32\n",
            "           7       0.86      0.77      0.81        39\n",
            "           8       0.83      0.87      0.85        45\n",
            "           9       0.90      0.90      0.90        40\n",
            "\n",
            "    accuracy                           0.88       413\n",
            "   macro avg       0.88      0.87      0.88       413\n",
            "weighted avg       0.88      0.88      0.88       413\n",
            "\n",
            "[[34  0  0  0  1  0  2  0  0  1]\n",
            " [ 1 45  1  0  0  0  0  1  0  0]\n",
            " [ 0  0 40  0  1  0  4  1  0  0]\n",
            " [ 0  0  2 32  0  1  0  0  0  0]\n",
            " [ 1  0  0  0 35  0  4  0  0  0]\n",
            " [ 0  0  0  2  1 47  0  0  0  0]\n",
            " [ 0  0  3  0  3  0 25  1  0  0]\n",
            " [ 0  1  0  0  3  0  0 30  5  0]\n",
            " [ 0  1  0  0  1  0  0  1 39  3]\n",
            " [ 0  0  0  0  0  0  0  1  3 36]]\n"
          ]
        }
      ],
      "source": [
        "\n",
        "print('Validation Accuracy= ', scoreOfVal)\n",
        "print('Testing Accuracy= ', scoreOfTest)\n",
        "\n",
        "y_pred = model.predict(x_test)\n",
        "# print(y_pred)\n",
        "\n",
        "\n",
        "y_pred_=np.argmax(y_pred, axis=1)\n",
        "y_test_=np.argmax(y_test, axis=1)\n",
        "# print(y_test)\n",
        "\n",
        "\n",
        "print(classification_report(y_test_, y_pred_))\n",
        "print (confusion_matrix(y_test_, y_pred_))\n",
        "\n",
        "\n",
        "# # Precision= TP/(TP + FP) = Accuracy of positive predictions.\n",
        "\n",
        "# # Recall = TP/(TP+FN) = Fraction of positives that were correctly identified.\n",
        "\n",
        "# # F1 Score = 2*(Recall * Precision) / (Recall + Precision) = What percent of positive predictions were correct? "
      ]
    }
  ],
  "metadata": {
    "accelerator": "GPU",
    "colab": {
      "provenance": []
    },
    "gpuClass": "standard",
    "kernelspec": {
      "display_name": "Python 3 (ipykernel)",
      "language": "python",
      "name": "python3"
    },
    "language_info": {
      "codemirror_mode": {
        "name": "ipython",
        "version": 3
      },
      "file_extension": ".py",
      "mimetype": "text/x-python",
      "name": "python",
      "nbconvert_exporter": "python",
      "pygments_lexer": "ipython3",
      "version": "3.10.6"
    }
  },
  "nbformat": 4,
  "nbformat_minor": 0
}