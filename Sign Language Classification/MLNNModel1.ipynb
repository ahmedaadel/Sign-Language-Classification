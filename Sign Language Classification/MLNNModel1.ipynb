{
  "cells": [
    {
      "cell_type": "code",
      "execution_count": 1,
      "metadata": {
        "id": "9hYQE--Z5c_y"
      },
      "outputs": [],
      "source": [
        "import tensorflow as tf\n",
        "import os\n",
        "import numpy as np\n",
        "from os import listdir\n",
        "from PIL import Image\n",
        "from sklearn.model_selection import train_test_split\n",
        "import imageio\n",
        "import cv2\n",
        "import matplotlib.pyplot as plt\n",
        "from keras.utils import to_categorical\n",
        "from keras.models import Sequential\n",
        "from keras.layers import Conv2D, MaxPooling2D, Dense, Flatten\n",
        "from keras.optimizers import SGD\n",
        "from sklearn.model_selection import KFold\n",
        "import sklearn.metrics\n",
        "from sklearn.metrics import classification_report\n",
        "from sklearn.metrics import confusion_matrix"
      ]
    },
    {
      "cell_type": "code",
      "execution_count": 2,
      "metadata": {
        "colab": {
          "base_uri": "https://localhost:8080/"
        },
        "id": "Ss_2ceP_BV7K",
        "outputId": "7ed23cb8-16b6-4fab-99a2-5fff114efbf7"
      },
      "outputs": [
        {
          "output_type": "stream",
          "name": "stdout",
          "text": [
            "Mounted at /content/drive\n"
          ]
        }
      ],
      "source": [
        "from google.colab import drive\n",
        "drive.mount('/content/drive')"
      ]
    },
    {
      "cell_type": "code",
      "execution_count": 3,
      "metadata": {
        "id": "kqJkr6To9byG"
      },
      "outputs": [],
      "source": [
        "\n",
        "imgSize = 64 #resize all images 64*64 pixels\n",
        "numClasses = 10 #0->9\n",
        "testSize = 0.2 #20% testing, 80%training\n"
      ]
    },
    {
      "cell_type": "code",
      "execution_count": 4,
      "metadata": {
        "id": "tRv065tG-A0N"
      },
      "outputs": [],
      "source": [
        "#get dataset \n",
        "dataset_path='/content/drive/MyDrive/Dataset'\n",
        "l=listdir(dataset_path)\n",
        "X = []\n",
        "Y = []\n",
        "for i, label in enumerate(l):\n",
        "    # print(i,'  ',label)\n",
        "    datas_path = dataset_path + '/' + label\n",
        "    for data in listdir(datas_path):\n",
        "        # print('** ',data)\n",
        "        img = imageio.imread(datas_path + '/' + data, as_gray=True)\n",
        "        img = cv2.resize(img, (imgSize,imgSize))\n",
        "        X.append(img)\n",
        "        Y.append(label)"
      ]
    },
    {
      "cell_type": "code",
      "execution_count": 5,
      "metadata": {
        "colab": {
          "base_uri": "https://localhost:8080/",
          "height": 303
        },
        "id": "jIbLezdgAODu",
        "outputId": "8463f9b0-5b9a-4425-eb37-43430eea7882"
      },
      "outputs": [
        {
          "output_type": "stream",
          "name": "stdout",
          "text": [
            "4\n",
            "1649\n"
          ]
        },
        {
          "output_type": "display_data",
          "data": {
            "text/plain": [
              "<Figure size 432x288 with 1 Axes>"
            ],
            "image/png": "[encoded data removed]"
          },
          "metadata": {
            "needs_background": "light"
          }
        }
      ],
      "source": [
        "# Splitting data \n",
        "# 80% Train, 20% Test Data\n",
        "x_train, x_test, y_train, y_test = train_test_split(X, Y, test_size=0.2, random_state=42)\n",
        "    \n",
        "x_train = np.asarray(x_train)\n",
        "x_test = np.asarray(x_test)\n",
        "y_train = np.asarray(y_train)\n",
        "y_test = np.asarray(y_test)\n",
        "\n",
        "#test image in train\n",
        "plt.imshow(x_train[10])\n",
        "\n",
        "#get its categorized value\n",
        "print(y_train[10])\n",
        "print(x_train.shape[0])"
      ]
    },
    {
      "cell_type": "code",
      "execution_count": 6,
      "metadata": {
        "id": "u2lUcKjO-3A3"
      },
      "outputs": [],
      "source": [
        "# print('x shape : ',x_train.shape)\n",
        "# print('x shape2 : ',x_test.shape)\n",
        "# x_train.shape[0]\n",
        "x_train = x_train.reshape((x_train.shape[0], imgSize, imgSize,1))\n",
        "x_test = x_test.reshape((x_test.shape[0], imgSize, imgSize,1))\n",
        "    \n",
        " #0,1,2,..9   \n",
        "y_train = to_categorical(y_train, numClasses)\n",
        "y_test = to_categorical(y_test, numClasses)\n",
        "\n",
        "# Making sure that the values are float \n",
        "x_train = x_train.astype('float32')\n",
        "x_test = x_test.astype('float32')\n",
        "\n",
        "# Normalizing .\n",
        "x_train /= 255\n",
        "x_test /= 255"
      ]
    },
    {
      "cell_type": "code",
      "execution_count": 7,
      "metadata": {
        "id": "5Ia-byEiQYQm"
      },
      "outputs": [],
      "source": [
        "#Build 1st model architecture\n",
        "model = Sequential()\n",
        "\n",
        "#input layer\n",
        "model.add(Flatten())\n",
        "\n",
        "#hidden layer with 128 neurons, activation fun: relu\n",
        "model.add(Dense(128, activation='relu'))\n",
        "\n",
        "#hidden layer with 64 neurons, activation fun: relu\n",
        "model.add(Dense(64, activation='relu'))\n",
        "\n",
        "#output layer, activation function softmax\n",
        "model.add(Dense(numClasses, activation='softmax'))\n",
        "\n",
        "# Compile\n",
        "model.compile(loss='categorical_crossentropy', optimizer='adam', metrics=['accuracy'])"
      ]
    },
    {
      "cell_type": "code",
      "execution_count": 8,
      "metadata": {
        "id": "U6m3EgqGRp8s"
      },
      "outputs": [],
      "source": [
        "# k-fold cross-validation during trianing\n",
        "scores, histories = list(), list()\n",
        "sum_ = 0.0\n",
        "# prepare cross validation\n",
        "K=4\n",
        "kfold = KFold(K, shuffle=True, random_state=1)\n",
        "\n",
        "# enumerate splits\n",
        "for train_ix, val_ix in kfold.split(x_train):\n",
        "    # select rows for train and test\n",
        "    trainX, trainY, valX, valY = x_train[train_ix], y_train[train_ix], x_train[val_ix], y_train[val_ix]\n",
        "    # fit model\n",
        "    history = model.fit(trainX, trainY, epochs=10, batch_size=32, validation_data=(valX, valY), verbose=0)\n",
        "    # evaluate model\n",
        "    _, acc = model.evaluate(valX, valY, verbose=0)\n",
        "    # stores scores\n",
        "    scores.append(acc)\n",
        "    histories.append(history)\n",
        "    sum_ += acc\n",
        "scoreOfVal = sum_ / K\n",
        "\n",
        "#Testing Accuracy\n",
        "_, scoreOfTest = model.evaluate(x_test, y_test, batch_size=32, verbose=0)"
      ]
    },
    {
      "cell_type": "code",
      "execution_count": 9,
      "metadata": {
        "colab": {
          "base_uri": "https://localhost:8080/"
        },
        "id": "sEBJt369S6R8",
        "outputId": "40a89a71-f092-4450-ad13-7953529c6cdc"
      },
      "outputs": [
        {
          "output_type": "stream",
          "name": "stdout",
          "text": [
            "accuracy for Validation =  0.6319979876279831\n",
            "accuracy for Testing =  0.7360774874687195\n",
            "13/13 [==============================] - 0s 2ms/step\n",
            "              precision    recall  f1-score   support\n",
            "\n",
            "           0       0.73      0.87      0.80        38\n",
            "           1       0.91      0.81      0.86        48\n",
            "           2       0.75      0.89      0.81        46\n",
            "           3       0.59      0.91      0.72        35\n",
            "           4       0.63      0.55      0.59        40\n",
            "           5       0.81      0.78      0.80        50\n",
            "           6       0.60      0.84      0.70        32\n",
            "           7       0.74      0.67      0.70        39\n",
            "           8       0.84      0.60      0.70        45\n",
            "           9       0.86      0.45      0.59        40\n",
            "\n",
            "    accuracy                           0.74       413\n",
            "   macro avg       0.75      0.74      0.73       413\n",
            "weighted avg       0.76      0.74      0.73       413\n",
            "\n",
            "[[33  0  0  0  1  0  3  0  0  1]\n",
            " [ 2 39  2  2  1  0  0  1  1  0]\n",
            " [ 0  1 41  0  0  0  2  2  0  0]\n",
            " [ 0  0  2 32  0  1  0  0  0  0]\n",
            " [ 4  0  0  0 22  2 10  1  1  0]\n",
            " [ 0  0  0 11  0 39  0  0  0  0]\n",
            " [ 2  0  2  0  0  0 27  1  0  0]\n",
            " [ 1  2  4  1  2  0  2 26  1  0]\n",
            " [ 1  1  4  1  6  1  1  1 27  2]\n",
            " [ 2  0  0  7  3  5  0  3  2 18]]\n"
          ]
        }
      ],
      "source": [
        "print('accuracy for Validation = ', scoreOfVal)\n",
        "print('accuracy for Testing = ', scoreOfTest)\n",
        "\n",
        "y_pred = model.predict(x_test)\n",
        "# print(y_pred)\n",
        "\n",
        "\n",
        "y_pred_ =np.argmax(y_pred, axis=1)\n",
        "y_test_ =np.argmax(y_test, axis=1)\n",
        "# print(y_test)\n",
        "\n",
        "\n",
        "print(classification_report(y_test_, y_pred_))\n",
        "print (confusion_matrix(y_test_, y_pred_))\n",
        "\n",
        "# # Precision= TP/(TP + FP) = Accuracy of positive predictions.\n",
        "\n",
        "# # Recall = TP/(TP+FN) = Fraction of positives that were correctly identified.\n",
        "\n",
        "# # F1 Score = 2*(Recall * Precision) / (Recall + Precision) = What percent of positive predictions were correct? \n",
        "\n"
      ]
    }
  ],
  "metadata": {
    "accelerator": "GPU",
    "colab": {
      "provenance": []
    },
    "gpuClass": "standard",
    "kernelspec": {
      "display_name": "Python 3 (ipykernel)",
      "language": "python",
      "name": "python3"
    },
    "language_info": {
      "codemirror_mode": {
        "name": "ipython",
        "version": 3
      },
      "file_extension": ".py",
      "mimetype": "text/x-python",
      "name": "python",
      "nbconvert_exporter": "python",
      "pygments_lexer": "ipython3",
      "version": "3.10.6"
    }
  },
  "nbformat": 4,
  "nbformat_minor": 0
}